{
 "cells": [
  {
   "cell_type": "markdown",
   "id": "3f7c01da",
   "metadata": {},
   "source": [
    "# Regular Expression (Regex)\n",
    "- We have already seen Part 1 (Session 1) (Basics)\n",
    "- we have already seen  Part 2 (Session 2) (Basics to Intermediate)\n",
    "- Now we are in Part 3 (Session 3) (Intermediate)"
   ]
  },
  {
   "cell_type": "markdown",
   "id": "ed5b9b2c",
   "metadata": {},
   "source": [
    "# In Part 1 - We have seen\n",
    "- match\n",
    "- search\n",
    "- finditer\n",
    "- findall\n",
    "- fullmatch\n",
    "- Search Pattern [ ] , { } , () , | , ^ , $ , \\d , \\w, \\s, . "
   ]
  },
  {
   "cell_type": "markdown",
   "id": "ada3059a",
   "metadata": {},
   "source": [
    "# In Part 2 - We have seen "
   ]
  },
  {
   "cell_type": "code",
   "execution_count": null,
   "id": "dc489cbc",
   "metadata": {},
   "outputs": [],
   "source": [
    ". => any ASCII Char\n",
    "\n",
    "Quantifiers:\n",
    "? - colou?r - zero or one =>  color - colour\n",
    "* - colou*r - zero or more => color - colour -colouur\n",
    "+ - colou+r - one or more => colour - colouur-colouuur\n",
    "\n",
    "\n",
    "- email validation\n",
    "- PAN Card ID Validation\n",
    "- Mobile Number Validation\n",
    "- VISA CARD Number Validation"
   ]
  },
  {
   "cell_type": "markdown",
   "id": "ae9b0aa6",
   "metadata": {},
   "source": [
    "# In this Part 3 - We see look ahead , look behind"
   ]
  },
  {
   "cell_type": "code",
   "execution_count": null,
   "id": "364f6c99",
   "metadata": {},
   "outputs": [],
   "source": [
    "XY => X is unknown, we need/want,   Y is known to us, text Pattern  \n",
    "YX => X is unknown, we need/want , Y is known/Pattern\n",
    "\n",
    "text =[\"My name is Suresh\", \"My name is Naresh\", \"My name is Ramesh\"]\n",
    "\n",
    "=> in the above , we want Name , that is X\n",
    "=> Y = \"My name is \"\n",
    "=> Inorder to get \"X\" , we are looking behind/before W.R.T X"
   ]
  },
  {
   "cell_type": "markdown",
   "id": "716d4c47",
   "metadata": {},
   "source": [
    "# Look behind. (YX)"
   ]
  },
  {
   "cell_type": "code",
   "execution_count": 1,
   "id": "92204e24",
   "metadata": {},
   "outputs": [
    {
     "name": "stdout",
     "output_type": "stream",
     "text": [
      "['Suresh']\n",
      "['Naresh']\n",
      "['Ramesh']\n"
     ]
    }
   ],
   "source": [
    "import re\n",
    "text =[\"My name is Suresh\", \"My name is Naresh\", \"My name is Ramesh\"]\n",
    "\n",
    "for txt in text:\n",
    "    # Look behind: \n",
    "    pattern = re.compile(r\"(?<=My name is )\\w+\") # YX\n",
    "\n",
    "    print(re.findall(pattern, txt))\n",
    "                     "
   ]
  },
  {
   "cell_type": "markdown",
   "id": "8e38cc33",
   "metadata": {},
   "source": [
    "# Look ahead (XY)\n"
   ]
  },
  {
   "cell_type": "code",
   "execution_count": null,
   "id": "ad9aeb03",
   "metadata": {},
   "outputs": [],
   "source": [
    "text =[\"500 is the cost\", \"600 is the price\", \"700 is the total\"]\n",
    "X is number =500,600,700\n",
    "Y = \"is the cost|price|total\"\n",
    "\n",
    "XY = Pattern\n",
    "=> In order to get X - we need to look forward/ahead W.R.T X\n"
   ]
  },
  {
   "cell_type": "code",
   "execution_count": 2,
   "id": "2c910891",
   "metadata": {},
   "outputs": [
    {
     "name": "stdout",
     "output_type": "stream",
     "text": [
      "['500']\n",
      "['600']\n",
      "['700']\n"
     ]
    }
   ],
   "source": [
    "import re\n",
    "text =[\"500 is the cost\", \"600 is the price\", \"700 is the total\"]\n",
    "for txt in text:\n",
    "    # Look ahead\n",
    "    pattern = re.compile(r\"\\w+(?= is the)\") # XY\n",
    "\n",
    "    print(re.findall(pattern, txt))"
   ]
  },
  {
   "cell_type": "markdown",
   "id": "df4fdc54",
   "metadata": {},
   "source": [
    "# Combine Both - look ahead - look behind"
   ]
  },
  {
   "cell_type": "code",
   "execution_count": 3,
   "id": "700964df",
   "metadata": {},
   "outputs": [
    {
     "name": "stdout",
     "output_type": "stream",
     "text": [
      "['Suresh.', ' 15L']\n",
      "['Naresh.', ' 20L']\n",
      "['Ramesh.', ' 26L']\n"
     ]
    }
   ],
   "source": [
    "import re\n",
    "text = [\"I am Suresh. I am wroking for HCL. 15L is package\", \n",
    "        \"I am Naresh. I work for Infosys. 20L is CTC\", \n",
    "        \"I am Ramesh. I am working for TCS. 26L is Salary\"]\n",
    "for txt in text:\n",
    "    # Look behind and look ahead: \n",
    "    pattern = re.compile(r\"(?<=I am )\\w+\\.| \\w+(?= is )\")\n",
    "\n",
    "    print(re.findall(pattern, txt))\n"
   ]
  },
  {
   "cell_type": "markdown",
   "id": "e73745fb",
   "metadata": {},
   "source": [
    "# Tip / Bonus"
   ]
  },
  {
   "cell_type": "code",
   "execution_count": 7,
   "id": "cd0f6f8b",
   "metadata": {},
   "outputs": [
    {
     "name": "stdout",
     "output_type": "stream",
     "text": [
      "\n",
      "    \n",
      "    \n",
      "    \n",
      "      My First Page\n",
      "    \n",
      "    \n",
      "      Hello, World!\n",
      "      This is a simple HTML text example.\n",
      "    \n",
      "    \n",
      "\n"
     ]
    }
   ],
   "source": [
    "import re\n",
    "text = \"\"\"\n",
    "    <!DOCTYPE html>\n",
    "    <html>\n",
    "    <head>\n",
    "      <title>My First Page</title>\n",
    "    </head>\n",
    "    <body>\n",
    "      <h1>Hello, World!</h1>\n",
    "      <p>This is a simple HTML text example.</p>\n",
    "    </body>\n",
    "    </html>\n",
    "\"\"\"\n",
    "pattern = re.compile(r\"<.*?>\")\n",
    "print(re.sub(pattern,\"\",text))\n"
   ]
  }
 ],
 "metadata": {
  "kernelspec": {
   "display_name": "Python 3 (ipykernel)",
   "language": "python",
   "name": "python3"
  },
  "language_info": {
   "codemirror_mode": {
    "name": "ipython",
    "version": 3
   },
   "file_extension": ".py",
   "mimetype": "text/x-python",
   "name": "python",
   "nbconvert_exporter": "python",
   "pygments_lexer": "ipython3",
   "version": "3.11.5"
  }
 },
 "nbformat": 4,
 "nbformat_minor": 5
}
