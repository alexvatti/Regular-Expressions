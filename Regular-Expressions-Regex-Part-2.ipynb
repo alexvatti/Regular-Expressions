{
 "cells": [
  {
   "cell_type": "markdown",
   "id": "3f7c01da",
   "metadata": {},
   "source": [
    "# Regular Expression (Regex)\n",
    "- We have already seen Part 1 (Session 1) (Basics)\n",
    "- Now we are in Part 2 (Session 2) (Basics to Intermediate)"
   ]
  },
  {
   "cell_type": "markdown",
   "id": "ed5b9b2c",
   "metadata": {},
   "source": [
    "In Part 1 - we have seen\n",
    "- match\n",
    "- search\n",
    "- finditer\n",
    "- findall\n",
    "- fullmatch\n",
    "- Search Pattern [ ] , { } , () , | , ^ , $ , \\d , \\w, \\s, . "
   ]
  },
  {
   "cell_type": "markdown",
   "id": "66224eb1",
   "metadata": {},
   "source": [
    "# In this session we are looking into"
   ]
  },
  {
   "cell_type": "markdown",
   "id": "ae9b0aa6",
   "metadata": {},
   "source": [
    "- email validation\n",
    "- PAN Card ID Validation\n",
    "- Mobile Number Validation\n",
    "- VISA CARD Number Validation"
   ]
  },
  {
   "cell_type": "code",
   "execution_count": null,
   "id": "44d46c21",
   "metadata": {},
   "outputs": [],
   "source": [
    ". => any ASCII Char\n",
    "\n",
    "Quantifiers:\n",
    "? - colou?r - zero or one =>  color - colour\n",
    "* - colou*r - zero or more => color - colour -colouur\n",
    "+ - colou+r - one or more => colour - colouur-colouuur"
   ]
  },
  {
   "cell_type": "markdown",
   "id": "aa27c980",
   "metadata": {},
   "source": [
    "# email validation"
   ]
  },
  {
   "cell_type": "code",
   "execution_count": null,
   "id": "7bbd761a",
   "metadata": {},
   "outputs": [],
   "source": [
    "^[a-zA-Z]{1}[a-zA-Z0-9\\-\\_]+@[a-zA-Z]+\\.[a-zA-Z]{2,}$"
   ]
  },
  {
   "cell_type": "code",
   "execution_count": 50,
   "id": "9d9d9fd4",
   "metadata": {},
   "outputs": [
    {
     "name": "stdout",
     "output_type": "stream",
     "text": [
      "suresh_1947@gmail.com->valid\n",
      "naresh-1980@yahoo.in->valid\n",
      "ramesh_456@outlook.com->valid\n"
     ]
    }
   ],
   "source": [
    "import re\n",
    "emial_list = [\"suresh_1947@gmail.com\", \"naresh-1980@yahoo.in\", \"ramesh_456@outlook.com\"]\n",
    "pattern = re.compile(r\"^[a-zA-Z]{1}[a-zA-Z0-9\\_\\-]+@[a-zA-Z]+\\.[a-zA-Z]{2,3}$\")\n",
    "for email in emial_list:\n",
    "    if bool(re.search(pattern,email)):\n",
    "        print(f\"{email}->valid\")\n",
    "    else:\n",
    "        print(f\"{email}-> Invalid\")"
   ]
  },
  {
   "cell_type": "code",
   "execution_count": null,
   "id": "9468b801",
   "metadata": {},
   "outputs": [],
   "source": [
    "5 CAP  Letter + 4 DIGITS + 1 CAP Letter "
   ]
  },
  {
   "cell_type": "code",
   "execution_count": 52,
   "id": "4c80ffa6",
   "metadata": {},
   "outputs": [
    {
     "name": "stdout",
     "output_type": "stream",
     "text": [
      "AHDPR3456V->valid\n",
      "BHDFR8789K->valid\n",
      "NGHJK1345O->valid\n"
     ]
    }
   ],
   "source": [
    "import re\n",
    "\n",
    "pan_ids_list = [\"AHDPR3456V\", \"BHDFR8789K\", \"NGHJK1345O\"]\n",
    "pattern = re.compile(r\"\"\"\n",
    "            ^[A-Z]{5} # 5 Capital Letters\n",
    "            [0-9]{4} # 4 digits\n",
    "            [A-Z]{1}$ # 1 Capital letter\n",
    "            \"\"\",re.VERBOSE\n",
    "            )\n",
    "for pan_id in pan_ids_list:\n",
    "    if bool(re.search(pattern,pan_id)):\n",
    "        print(f\"{pan_id}->valid\")\n",
    "    else:\n",
    "        print(f\"{pan_id}-> Invalid\")"
   ]
  },
  {
   "cell_type": "code",
   "execution_count": null,
   "id": "10b95d38",
   "metadata": {},
   "outputs": [],
   "source": [
    "+91 10 digits, 91-10digits 10digits (+91) 10 digits"
   ]
  },
  {
   "cell_type": "code",
   "execution_count": 63,
   "id": "1e790887",
   "metadata": {},
   "outputs": [
    {
     "name": "stdout",
     "output_type": "stream",
     "text": [
      "+91 9123456790->valid\n",
      "918989898989->valid\n",
      "8234567890->valid\n",
      "(+91)  1234567890->valid\n"
     ]
    }
   ],
   "source": [
    "import re\n",
    "mobile_numbers_list = [\"+91 9123456790\", \"918989898989\", \"8234567890\", \"(+91)  1234567890\"]\n",
    "\n",
    "pattern = re.compile(r\"\"\"\n",
    "             ^\\+(91)\\s{0,}\\d{10}$       | # 91 followed 10 digits pattern\n",
    "             ^(91)\\d{10}$       |\n",
    "              ^(\\(\\+91\\))\\s{1,}\\d{10}$       |\n",
    "             ^[6789]{1}\\d{9}$            # 10 digits\n",
    "    \n",
    "             \"\"\",re.VERBOSE)      \n",
    "\n",
    "for mobile_num in mobile_numbers_list:\n",
    "    if bool(re.search(pattern,mobile_num)):\n",
    "        print(f\"{mobile_num}->valid\")\n",
    "    else:\n",
    "        print(f\"{mobile_num}-> Invalid\")"
   ]
  },
  {
   "cell_type": "code",
   "execution_count": null,
   "id": "393bb75a",
   "metadata": {},
   "outputs": [],
   "source": [
    "4 DIGITS - 4 (Groups) Spaces - Hypen - 4 Visa , 5 Master"
   ]
  },
  {
   "cell_type": "code",
   "execution_count": 66,
   "id": "e7be12b4",
   "metadata": {},
   "outputs": [
    {
     "name": "stdout",
     "output_type": "stream",
     "text": [
      "4567-2345-1234-4567->valid\n",
      "5467-1234-4567-1256->valid\n",
      "4567 2345 1244 4467->valid\n",
      "['4567234512344567', '5467123445671256', '4567234512444467']\n",
      "4567234512344567-> valid\n",
      "5467123445671256-> valid\n",
      "4567234512444467->Invalid\n"
     ]
    }
   ],
   "source": [
    "import re\n",
    "visa_card_list = [\"4567-2345-1234-4567\", \"5467-1234-4567-1256\" ,\"4567 2345 1244 4467\"]\n",
    "pattern = re.compile(r\"\"\"\n",
    "            ^[45]{1}[0-9]{3}[\\- ]{1}\\d{4}[\\- ]{1}\\d{4}[\\- ]{1}\\d{4}$\n",
    "            \"\"\",re.VERBOSE\n",
    "            )\n",
    "for card in visa_card_list:\n",
    "    if bool(re.search(pattern,card)):\n",
    "        print(f\"{card}->valid\")\n",
    "    else:\n",
    "        print(f\"{card}-> Invalid\")\n",
    "        \n",
    "new_list = []\n",
    "for card in visa_card_list:\n",
    "    card=re.sub(r\"[\\- ]\",\"\",card)\n",
    "    new_list.append(card)\n",
    "print(new_list)\n",
    "\n",
    "pattern = re.compile(r\"\"\"\n",
    "            [0]{4}|[1]{4}|[3]{4}|[4]{4}|[5]{4}|[6]{4}|[7]{4}|[8]{4}|[9]{4}\n",
    "            \"\"\",re.VERBOSE\n",
    "            )\n",
    "for card in new_list:\n",
    "    if bool(re.search(pattern,card)):\n",
    "        print(f\"{card}->Invalid\")\n",
    "    else:\n",
    "        print(f\"{card}-> valid\")"
   ]
  }
 ],
 "metadata": {
  "kernelspec": {
   "display_name": "Python 3 (ipykernel)",
   "language": "python",
   "name": "python3"
  },
  "language_info": {
   "codemirror_mode": {
    "name": "ipython",
    "version": 3
   },
   "file_extension": ".py",
   "mimetype": "text/x-python",
   "name": "python",
   "nbconvert_exporter": "python",
   "pygments_lexer": "ipython3",
   "version": "3.11.5"
  }
 },
 "nbformat": 4,
 "nbformat_minor": 5
}
